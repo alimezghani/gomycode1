{
 "cells": [
  {
   "cell_type": "code",
   "execution_count": 25,
   "id": "656caee9",
   "metadata": {},
   "outputs": [],
   "source": [
    "import numpy as np"
   ]
  },
  {
   "cell_type": "code",
   "execution_count": 1,
   "id": "351d391f",
   "metadata": {},
   "outputs": [],
   "source": [
    "def divisible(n):\n",
    "    L=[]\n",
    "    while n in range(2000 , 3200):\n",
    "        if (n % 7==0) and (n//5==0):\n",
    "            L.append(n)\n",
    "    return L\n",
    "\n"
   ]
  },
  {
   "cell_type": "code",
   "execution_count": 2,
   "id": "cdae4393",
   "metadata": {},
   "outputs": [],
   "source": [
    "def factoriel(n):\n",
    "    for i in range (1,n):\n",
    "        m=(n-i)*n\n",
    "    if (n==0):\n",
    "        m=1\n",
    "    return m"
   ]
  },
  {
   "cell_type": "code",
   "execution_count": 8,
   "id": "49f6c632",
   "metadata": {},
   "outputs": [],
   "source": [
    "def de(n):\n",
    "    d={}\n",
    "    for i in range(1,n+1):\n",
    "        d[i]=i*i\n",
    "        \n",
    "    print(d)    "
   ]
  },
  {
   "cell_type": "code",
   "execution_count": 9,
   "id": "1f75c729",
   "metadata": {},
   "outputs": [
    {
     "name": "stdout",
     "output_type": "stream",
     "text": [
      "{1: 1, 2: 4, 3: 9, 4: 16, 5: 25}\n"
     ]
    }
   ],
   "source": [
    "de(5)"
   ]
  },
  {
   "cell_type": "code",
   "execution_count": 18,
   "id": "3e8f00b3",
   "metadata": {},
   "outputs": [],
   "source": [
    "def miss(ch,n):\n",
    "        print(ch[:n]+ch[n+1:])\n",
    "    return(ch)\n",
    "        "
   ]
  },
  {
   "cell_type": "code",
   "execution_count": 19,
   "id": "6e6b330c",
   "metadata": {},
   "outputs": [
    {
     "name": "stdout",
     "output_type": "stream",
     "text": [
      "abcef\n",
      "abcef\n",
      "abcef\n",
      "abcef\n",
      "abcef\n",
      "abcef\n"
     ]
    },
    {
     "data": {
      "text/plain": [
       "'abcdef'"
      ]
     },
     "execution_count": 19,
     "metadata": {},
     "output_type": "execute_result"
    }
   ],
   "source": [
    "ch='abcdef'\n",
    "miss(ch,3)"
   ]
  },
  {
   "cell_type": "code",
   "execution_count": null,
   "id": "987509bc",
   "metadata": {},
   "outputs": [],
   "source": [
    "def function(l):\n",
    "        import numpy as np\n",
    "        list1=arr.tolist(l);\n",
    "    return list1"
   ]
  },
  {
   "cell_type": "code",
   "execution_count": 17,
   "id": "f09b1f61",
   "metadata": {},
   "outputs": [],
   "source": [
    "def ori(c1,c2):\n",
    "        c3=np.cov(c1,c2)\n",
    "        return c3\n",
    "    \n",
    "    "
   ]
  },
  {
   "cell_type": "code",
   "execution_count": 26,
   "id": "a4e5dea5",
   "metadata": {},
   "outputs": [
    {
     "data": {
      "text/plain": [
       "array([[1., 1.],\n",
       "       [1., 1.]])"
      ]
     },
     "execution_count": 26,
     "metadata": {},
     "output_type": "execute_result"
    }
   ],
   "source": [
    "c1=np.array([0,1,2])\n",
    "c2=np.array([0,1,2])\n",
    "ori(c1,c2)\n"
   ]
  },
  {
   "cell_type": "code",
   "execution_count": 22,
   "id": "4ae0aa35",
   "metadata": {},
   "outputs": [
    {
     "ename": "SyntaxError",
     "evalue": "invalid syntax (<ipython-input-22-1f2fb9696f3a>, line 1)",
     "output_type": "error",
     "traceback": [
      "\u001b[1;36m  File \u001b[1;32m\"<ipython-input-22-1f2fb9696f3a>\"\u001b[1;36m, line \u001b[1;32m1\u001b[0m\n\u001b[1;33m    c1:[0,1,2] c2:[0,1,2]\u001b[0m\n\u001b[1;37m               ^\u001b[0m\n\u001b[1;31mSyntaxError\u001b[0m\u001b[1;31m:\u001b[0m invalid syntax\n"
     ]
    }
   ],
   "source": [
    "c1:[0,1,2] c2:[0,1,2]\n",
    "        c3=ori(c1,c2)"
   ]
  },
  {
   "cell_type": "code",
   "execution_count": null,
   "id": "69089727",
   "metadata": {},
   "outputs": [],
   "source": [
    "def squareroot(a,b,c):\n",
    "    for i in range"
   ]
  }
 ],
 "metadata": {
  "kernelspec": {
   "display_name": "Python 3",
   "language": "python",
   "name": "python3"
  },
  "language_info": {
   "codemirror_mode": {
    "name": "ipython",
    "version": 3
   },
   "file_extension": ".py",
   "mimetype": "text/x-python",
   "name": "python",
   "nbconvert_exporter": "python",
   "pygments_lexer": "ipython3",
   "version": "3.8.8"
  }
 },
 "nbformat": 4,
 "nbformat_minor": 5
}
